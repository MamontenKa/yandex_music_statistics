{
 "cells": [
  {
   "cell_type": "code",
   "execution_count": null,
   "metadata": {},
   "outputs": [],
   "source": [
    "from dataclasses import dataclass\n",
    "import pickle\n",
    "\n",
    "@dataclass\n",
    "class Track:\n",
    "    data_b: int\n",
    "    track_name: str\n",
    "    track_artist: str\n",
    "    url_track: str\n",
    "    url_artist: str\n",
    "        \n",
    "with open('res.pkl', 'rb') as f:\n",
    "    data = pickle.load(f)\n",
    "    \n",
    "with open('res.csv', 'w', encoding='utf8') as f:\n",
    "    f.write('data_b,track_name,track_artist,url_track,url_artist\\n')\n",
    "    for track in data:\n",
    "        f.write(\n",
    "            f'{track.data_b},'\n",
    "            f'\"{track.track_name}\",'\n",
    "            f'\"{track.track_artist}\",'\n",
    "            f'\"{track.url_track}\",'\n",
    "            f'\"{track.url_artist}\"\\n'\n",
    "        )"
   ]
  },
  {
   "cell_type": "code",
   "execution_count": null,
   "metadata": {},
   "outputs": [],
   "source": [
    "import pandas\n",
    "import matplotlib\n",
    "\n",
    "df = pandas.read_csv('res.csv')"
   ]
  },
  {
   "cell_type": "code",
   "execution_count": null,
   "metadata": {},
   "outputs": [],
   "source": [
    "sorted_artists = df.groupby(['track_artist'])['track_artist'].count().sort_values(ascending=False)\n",
    "sorted_tracks = df.groupby(['track_name'])['track_name'].count().sort_values(ascending=False)\n",
    "sorted_tracks_by_artists = df.groupby(['track_artist', 'track_name'])['track_artist'].count().sort_values(ascending=False)"
   ]
  },
  {
   "cell_type": "code",
   "execution_count": null,
   "metadata": {},
   "outputs": [],
   "source": [
    "sorted_artists"
   ]
  },
  {
   "cell_type": "code",
   "execution_count": null,
   "metadata": {},
   "outputs": [],
   "source": [
    "sorted_tracks"
   ]
  },
  {
   "cell_type": "code",
   "execution_count": null,
   "metadata": {},
   "outputs": [],
   "source": [
    "sorted_tracks_by_artists['']"
   ]
  }
 ],
 "metadata": {
  "kernelspec": {
   "display_name": "Python 3",
   "language": "python",
   "name": "python3"
  },
  "language_info": {
   "codemirror_mode": {
    "name": "ipython",
    "version": 3
   },
   "file_extension": ".py",
   "mimetype": "text/x-python",
   "name": "python",
   "nbconvert_exporter": "python",
   "pygments_lexer": "ipython3",
   "version": "3.7.1"
  },
  "pycharm": {
   "stem_cell": {
    "cell_type": "raw",
    "metadata": {
     "collapsed": false
    },
    "source": []
   }
  }
 },
 "nbformat": 4,
 "nbformat_minor": 1
}
